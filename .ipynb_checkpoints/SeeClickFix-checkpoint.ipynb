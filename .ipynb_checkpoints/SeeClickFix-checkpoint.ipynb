{
 "metadata": {
  "name": ""
 },
 "nbformat": 3,
 "nbformat_minor": 0,
 "worksheets": [
  {
   "cells": [
    {
     "cell_type": "code",
     "collapsed": false,
     "input": [
      "import pandas as pd\n",
      "import matplotlib.pyplot as plt\n",
      "from mpl_toolkits.mplot3d import Axes3D\n",
      "from sklearn.cluster import MiniBatchKMeans\n",
      "%pylab osx"
     ],
     "language": "python",
     "metadata": {},
     "outputs": [
      {
       "output_type": "stream",
       "stream": "stdout",
       "text": [
        "Populating the interactive namespace from numpy and matplotlib\n"
       ]
      }
     ],
     "prompt_number": 25
    },
    {
     "cell_type": "code",
     "collapsed": false,
     "input": [
      "train = pd.io.parsers.read_csv('data/train.csv')"
     ],
     "language": "python",
     "metadata": {},
     "outputs": [],
     "prompt_number": 2
    },
    {
     "cell_type": "code",
     "collapsed": false,
     "input": [
      "train['created_time'] = pd.to_datetime(train['created_time'])"
     ],
     "language": "python",
     "metadata": {},
     "outputs": [],
     "prompt_number": 3
    },
    {
     "cell_type": "code",
     "collapsed": false,
     "input": [
      "kmeans = MiniBatchKMeans(n_clusters=4)\n",
      "kmeans.fit(train[['num_votes', 'num_comments', 'num_views']])"
     ],
     "language": "python",
     "metadata": {},
     "outputs": [],
     "prompt_number": 54
    },
    {
     "cell_type": "code",
     "collapsed": false,
     "input": [
      "preds = kmeans.predict(train[['num_votes', 'num_comments', 'num_views']])\n",
      "\n",
      "fig = plt.figure()\n",
      "ax = fig.add_subplot(221, projection='3d')\n",
      "ax.set_xlim(0, \n",
      "ax.set_xlabel('votes')\n",
      "ax.set_ylabel('comments')\n",
      "ax.set_zlabel('views')\n",
      "ax.scatter(train['num_votes'], train['num_comments'], train['num_views'], c=preds)\n",
      "\n",
      "ax = fig.add_subplot(222)\n",
      "ax.scatter(train['num_votes'], train['num_comments'], c=preds)\n",
      "ax.set_xlabel('votes')\n",
      "ax.set_ylabel('comments')\n",
      "\n",
      "ax = fig.add_subplot(223)\n",
      "ax.scatter(train['num_votes'], train['num_views'], c=preds)\n",
      "ax.set_xlabel('votes')\n",
      "ax.set_ylabel('num_views')\n",
      "\n",
      "ax = fig.add_subplot(224)\n",
      "ax.scatter(train['num_comments'], train['num_views'], c=preds)\n",
      "ax.set_xlabel('num_comments')\n",
      "ax.set_ylabel('num_views')"
     ],
     "language": "python",
     "metadata": {},
     "outputs": [
      {
       "metadata": {},
       "output_type": "pyout",
       "prompt_number": 55,
       "text": [
        "<matplotlib.text.Text at 0x160f384d0>"
       ]
      }
     ],
     "prompt_number": 55
    },
    {
     "cell_type": "code",
     "collapsed": false,
     "input": [],
     "language": "python",
     "metadata": {},
     "outputs": []
    }
   ],
   "metadata": {}
  }
 ]
}